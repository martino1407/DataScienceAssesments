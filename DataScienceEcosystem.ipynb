{
 "cells": [
  {
   "cell_type": "markdown",
   "id": "e08a2cde-efc3-4781-9bf2-39d96bd7180d",
   "metadata": {},
   "source": [
    "# Data Science Tools and Ecosystem"
   ]
  },
  {
   "cell_type": "markdown",
   "id": "04e8d240-940b-4fb8-8d76-7da41923a5b8",
   "metadata": {},
   "source": [
    "#### In this notebook, Data Science Tools and Ecosystem are summarized"
   ]
  },
  {
   "cell_type": "markdown",
   "id": "d4c7d2ef-7c34-486e-8e56-392815406973",
   "metadata": {},
   "source": [
    "## Objectives:\n",
    "- Popular Lenaguages of Data Scientist\n",
    "- Common Used Libraries\n",
    "- Developmetn Enviroments Sources\n",
    "- Examples and Exercises"
   ]
  },
  {
   "cell_type": "markdown",
   "id": "2ceabd4c-b15b-4f38-a720-e4b61865f30c",
   "metadata": {},
   "source": [
    "#### Some of the popular languages that Data Scientist use are:"
   ]
  },
  {
   "cell_type": "markdown",
   "id": "ce2fa08a-9a5a-4231-bde3-696233c47bdf",
   "metadata": {},
   "source": [
    "|Number | Lenguages |\n",
    "|------- | ------ |\n",
    "| 1 | PyThon |\n",
    "| 2 | R |\n",
    "| 3 | SQL |"
   ]
  },
  {
   "cell_type": "markdown",
   "id": "2e54c72d-1382-4290-9079-65b0c276e864",
   "metadata": {},
   "source": [
    "### Some of the commonly used libraries used by Data Scientists include:"
   ]
  },
  {
   "cell_type": "markdown",
   "id": "befcc15d-4ac9-4e66-9ea1-7cdd4f48a3a3",
   "metadata": {},
   "source": [
    "| Number | Libraries |\n",
    "| ------ | ------ |\n",
    "| 1 | Jupiter |\n",
    "| 2 | Java |\n",
    "| 3 | C+ |"
   ]
  },
  {
   "cell_type": "markdown",
   "id": "352b68b8-fe9d-4f4c-9679-6244e7ff3b08",
   "metadata": {},
   "source": [
    "### Development Enviroment Open Source"
   ]
  },
  {
   "cell_type": "markdown",
   "id": "fdcdc01e-e167-4383-aa4a-8c97fdfc74b9",
   "metadata": {},
   "source": [
    "| Data Science Tools |\n",
    "| ------ |\n",
    "| Jupiter |\n",
    "| Google Colab |\n",
    "| IBM Watson |"
   ]
  },
  {
   "cell_type": "markdown",
   "id": "2d48832a-4448-4b6a-852c-7de0f44d3097",
   "metadata": {},
   "source": [
    "### Bellow are a few examples of evaluating arithmetic expressions in Python"
   ]
  },
  {
   "cell_type": "markdown",
   "id": "4c8b0be6-2f6f-49b9-906e-a4ed84261374",
   "metadata": {},
   "source": [
    "###### This a simple arithmetic expression to multiply then add integers"
   ]
  },
  {
   "cell_type": "markdown",
   "id": "256b8cd7-da5d-4957-93c2-276034fb2330",
   "metadata": {},
   "source": [
    "(3*4)+5"
   ]
  },
  {
   "cell_type": "markdown",
   "id": "439f29d3-0253-4355-af4b-215d28ea3fd1",
   "metadata": {},
   "source": [
    "###### This will convert 200 minutes to hours by diving by 60"
   ]
  },
  {
   "cell_type": "code",
   "execution_count": 9,
   "id": "ba749aa2-4626-4928-83e5-19cd71e9fac3",
   "metadata": {},
   "outputs": [
    {
     "data": {
      "text/plain": [
       "3.3333333333333335"
      ]
     },
     "execution_count": 9,
     "metadata": {},
     "output_type": "execute_result"
    }
   ],
   "source": [
    "200/60"
   ]
  },
  {
   "cell_type": "markdown",
   "id": "81b90822-7253-4ab9-b89d-d8c6a00be91f",
   "metadata": {},
   "source": [
    "## Author"
   ]
  },
  {
   "cell_type": "markdown",
   "id": "c750b9e8-2c5f-4498-810a-56bfc7263b42",
   "metadata": {},
   "source": [
    "Martin Proano, MBA."
   ]
  },
  {
   "cell_type": "code",
   "execution_count": null,
   "id": "4e408716-63fc-4837-b78b-c88c241082ea",
   "metadata": {},
   "outputs": [],
   "source": []
  }
 ],
 "metadata": {
  "kernelspec": {
   "display_name": "Python 3 (ipykernel)",
   "language": "python",
   "name": "python3"
  },
  "language_info": {
   "codemirror_mode": {
    "name": "ipython",
    "version": 3
   },
   "file_extension": ".py",
   "mimetype": "text/x-python",
   "name": "python",
   "nbconvert_exporter": "python",
   "pygments_lexer": "ipython3",
   "version": "3.11.9"
  }
 },
 "nbformat": 4,
 "nbformat_minor": 5
}
